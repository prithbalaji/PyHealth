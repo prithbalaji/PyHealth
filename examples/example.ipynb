{
 "cells": [
  {
   "cell_type": "code",
   "execution_count": null,
   "metadata": {
    "vscode": {
     "languageId": "plaintext"
    }
   },
   "outputs": [],
   "source": [
    "from pyhealth.datasets import CheXphotoDataset\n",
    "from pyhealth.tasks import chexphoto_multilabel_task\n",
    "from pyhealth.datasets import split_by_patient, get_dataloader\n",
    "from pyhealth.models import CNN\n",
    "from pyhealth.trainer import Trainer\n",
    "\n",
    "# Load dataset\n",
    "dataset = CheXphotoDataset(root=\"data/chexphoto\")\n",
    "samples = chexphoto_multilabel_task(dataset)\n",
    "\n",
    "# Split data\n",
    "train_ds, val_ds, test_ds = split_by_patient(samples, [0.8, 0.1, 0.1])\n",
    "train_loader = get_dataloader(train_ds, batch_size=32, shuffle=True)\n",
    "val_loader = get_dataloader(val_ds, batch_size=32, shuffle=False)\n",
    "test_loader = get_dataloader(test_ds, batch_size=32, shuffle=False)\n",
    "\n",
    "# Model and training\n",
    "model = CNN(dataset=samples, feature_keys=[\"input\"], label_key=\"label\", mode=\"multilabel\")\n",
    "trainer = Trainer(model=model)\n",
    "trainer.train(train_dataloader=train_loader, val_dataloader=val_loader, epochs=50, monitor=\"roc_auc\")\n",
    "trainer.evaluate(test_loader)\n"
   ]
  }
 ],
 "metadata": {
  "language_info": {
   "name": "python"
  }
 },
 "nbformat": 4,
 "nbformat_minor": 2
}
